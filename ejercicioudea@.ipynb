{
  "cells": [
    {
      "cell_type": "markdown",
      "metadata": {
        "id": "view-in-github",
        "colab_type": "text"
      },
      "source": [
        "<a href=\"https://colab.research.google.com/github/Mejia2003/InfoII/blob/main/ejercicioudea%40.ipynb\" target=\"_parent\"><img src=\"https://colab.research.google.com/assets/colab-badge.svg\" alt=\"Open In Colab\"/></a>"
      ]
    },
    {
      "cell_type": "markdown",
      "source": [
        "1. SISTEMA DE GESTIÓN DE SIGNOS VITALES\n",
        "Se propone diseñar un sistema para la gestión de signos vitales de pacientes en un servicio de hospitalización. El sistema debe gestionar médicos y pacientes. Los pacientes tienen información de nombre, cédula, temperatura, frecuencia cardiaca, presión. Los médicos tienen información de nombre, cédula, registromédico y la lista de los pacientes que tiene a cargo. El médico puede verificar el estado de un paciente o ingresar un nuevo paciente. Para verificar el estado de unpaciente se ingresa su número de cédula y el sistema deberá retornar una cadena con el siguiente formato:\n",
        "Nombre; Temperatura; Frecuencia cardiaca; Presión, en el orden indicado y usando los ‘;’. En caso de que el\n",
        "número de identificación no exista se debe retornar la cadena: Paciente no existe. Para ingresar un paciente se solicita su identificación, en caso de que exista se retorna la cadena: Paciente\n",
        "existe. En el otro caso se ingresa los datos restantes, y una vez creado se agrega a la lista de pacientes del\n",
        "sistema."
      ],
      "metadata": {
        "id": "7rIdKw8A4kn-"
      }
    },
    {
      "cell_type": "code",
      "source": [
        "class Persona:\n",
        "  def __init__(self, nombre, id):\n",
        "    self.nombre=nombre\n",
        "    self._cedula=id\n",
        "    def informacionPersonal(self):\n",
        "      return f\"Nombre:{self.nombre}\\n Documento de identidad :{self._id}\"\n",
        "\n",
        "class Paciente(Persona):\n",
        "  def __init__(self, nombre,id,temperatura, frecuenciaCardiaca,presion):\n",
        "    super().__init__(nombre,id)\n",
        "    self.temperatura=temperatura\n",
        "    self.frecuenciCardiaca=frecuenciaCardiaca\n",
        "    self.presion=presion\n",
        "\n",
        "    def getNombre(self):\n",
        "        return self.nombre\n",
        "\n",
        "    def setNombre(self, id):\n",
        "        self.nombre = nombre\n",
        "\n",
        "    def getCedula(self):\n",
        "        return self.id\n",
        "\n",
        "    def setCedula(self, id):\n",
        "        self.cedula = id\n",
        "\n",
        "    def getTemperatura(self):\n",
        "        return self.temperatura\n",
        "\n",
        "    def setTemperatura(self, temperatura):\n",
        "        self.temperatura = temperatura\n",
        "\n",
        "    def getFrecuenciaCardiaca(self):\n",
        "        return self.frecuenciaCardiaca\n",
        "\n",
        "    def setFrecuenciaCardiaca(self, frecuenciaCardiaca):\n",
        "        self.frecuenciaCardiaca = frecuenciaCardiaca\n",
        "\n",
        "    def getPresion(self):\n",
        "        return self.presion\n",
        "\n",
        "    def setPresion(self, presion):\n",
        "        self.presion = presion\n",
        "\n",
        "class Doctor(Persona):\n",
        "  def __init__(self,nombre, id, registroMedico):\n",
        "    super().__init__(nombre,id)\n",
        "    self._registroMedico=registroMedico\n",
        "    self.Pacientes=[]\n",
        "\n",
        "    def getNombre(self):\n",
        "        return self.nombre\n",
        "\n",
        "    def setNombre(self, nombre):\n",
        "        self.nombre = nombre\n",
        "\n",
        "    def getId(self):\n",
        "      return self._id\n",
        "\n",
        "    def setId(self,id):\n",
        "      self._id=id\n",
        "\n",
        "    def verificar_estado_paciente(self, id):\n",
        "        for paciente in self.pacientes:\n",
        "            if paciente.cedula == id:\n",
        "                return paciente.verificar_estado()\n",
        "        return \"Paciente no existe\"\n",
        "\n",
        "    def agregar_paciente(self, paciente):\n",
        "        for p in self.pacientes:\n",
        "            if p.id == paciente.cedula:\n",
        "                return \"Paciente existe\"\n",
        "        self.pacientes.append(paciente)\n",
        "        return \"Paciente agregado\"\n",
        "\n",
        "class SistemaGestionSignosVitales:\n",
        "    def __init__(self):\n",
        "        self.pacientes = []\n",
        "        self.medicos = []\n",
        "\n",
        "    def buscar_paciente(self, cedula):\n",
        "        for paciente in self.pacientes:\n",
        "            if paciente.cedula == cedula:\n",
        "                return paciente\n",
        "        return None\n",
        "\n",
        "    def verificar_estado_paciente(self, cedula):\n",
        "        paciente = self.buscar_paciente(cedula)\n",
        "        if paciente:\n",
        "            return paciente.verificar_estado()\n",
        "        return \"Paciente no existe\"\n",
        "\n",
        "    def agregar_paciente(self, paciente):\n",
        "        if self.buscar_paciente(paciente.cedula):\n",
        "            return \"Paciente existe\"\n",
        "        self.pacientes.append(paciente)\n",
        "        return \"Paciente agregado\"\n",
        "\n",
        "    def asignar_paciente_a_medico(self, paciente, medico):\n",
        "        if paciente in self.pacientes and medico in self.medicos:\n",
        "            medico.pacientes.append(paciente)\n",
        "            return \"Paciente asignado\"\n",
        "        return \"Error al asignar paciente\"\n",
        "\n",
        "\n",
        "\n"
      ],
      "metadata": {
        "id": "s3OdWM9v1NSX"
      },
      "execution_count": null,
      "outputs": []
    },
    {
      "cell_type": "code",
      "source": [
        "paciente1 = Paciente(\"Juan\", \"123456\", 37.5, 80, \"120/80\")"
      ],
      "metadata": {
        "id": "svEZ74Ek7MNc"
      },
      "execution_count": null,
      "outputs": []
    },
    {
      "cell_type": "code",
      "source": [
        "Doctor = Doctor(\"Dr. Perez\", \"654321\", \"12345\")"
      ],
      "metadata": {
        "id": "cK4t5eBX7O8H"
      },
      "execution_count": null,
      "outputs": []
    },
    {
      "cell_type": "code",
      "source": [
        "print(sistema.agregar_paciente(paciente1))"
      ],
      "metadata": {
        "colab": {
          "base_uri": "https://localhost:8080/",
          "height": 141
        },
        "id": "EIt5KrBh7S5O",
        "outputId": "57e2f35e-7a1a-423a-8f60-1a23f8d9c365"
      },
      "execution_count": null,
      "outputs": [
        {
          "output_type": "error",
          "ename": "NameError",
          "evalue": "name 'sistema' is not defined",
          "traceback": [
            "\u001b[0;31m---------------------------------------------------------------------------\u001b[0m",
            "\u001b[0;31mNameError\u001b[0m                                 Traceback (most recent call last)",
            "\u001b[0;32m<ipython-input-15-0c6676bfd874>\u001b[0m in \u001b[0;36m<cell line: 1>\u001b[0;34m()\u001b[0m\n\u001b[0;32m----> 1\u001b[0;31m \u001b[0mprint\u001b[0m\u001b[0;34m(\u001b[0m\u001b[0msistema\u001b[0m\u001b[0;34m.\u001b[0m\u001b[0magregar_paciente\u001b[0m\u001b[0;34m(\u001b[0m\u001b[0mpaciente1\u001b[0m\u001b[0;34m)\u001b[0m\u001b[0;34m)\u001b[0m\u001b[0;34m\u001b[0m\u001b[0;34m\u001b[0m\u001b[0m\n\u001b[0m",
            "\u001b[0;31mNameError\u001b[0m: name 'sistema' is not defined"
          ]
        }
      ]
    },
    {
      "cell_type": "code",
      "source": [
        "print(Doctor.verificar_estado_paciente(\"123456\"))"
      ],
      "metadata": {
        "colab": {
          "base_uri": "https://localhost:8080/",
          "height": 141
        },
        "id": "7HBXq75g7WEc",
        "outputId": "030c9536-bede-4488-a161-6966998b64c0"
      },
      "execution_count": null,
      "outputs": [
        {
          "output_type": "error",
          "ename": "AttributeError",
          "evalue": "'Doctor' object has no attribute 'verificar_estado_paciente'",
          "traceback": [
            "\u001b[0;31m---------------------------------------------------------------------------\u001b[0m",
            "\u001b[0;31mAttributeError\u001b[0m                            Traceback (most recent call last)",
            "\u001b[0;32m<ipython-input-13-19598d125d1e>\u001b[0m in \u001b[0;36m<cell line: 1>\u001b[0;34m()\u001b[0m\n\u001b[0;32m----> 1\u001b[0;31m \u001b[0mprint\u001b[0m\u001b[0;34m(\u001b[0m\u001b[0mDoctor\u001b[0m\u001b[0;34m.\u001b[0m\u001b[0mverificar_estado_paciente\u001b[0m\u001b[0;34m(\u001b[0m\u001b[0;34m\"123456\"\u001b[0m\u001b[0;34m)\u001b[0m\u001b[0;34m)\u001b[0m\u001b[0;34m\u001b[0m\u001b[0;34m\u001b[0m\u001b[0m\n\u001b[0m",
            "\u001b[0;31mAttributeError\u001b[0m: 'Doctor' object has no attribute 'verificar_estado_paciente'"
          ]
        }
      ]
    },
    {
      "cell_type": "code",
      "source": [
        "class Persona:\n",
        "    def __init__(self, nombre, id):\n",
        "        self.nombre = nombre\n",
        "        self._id = id\n",
        "\n",
        "    def informacion_personal(self):\n",
        "        return f\"Nombre: {self.nombre}\\nDocumento de identidad: {self._id}\"\n",
        "\n",
        "    def get_nombre(self):\n",
        "        return self.nombre\n",
        "\n",
        "    def set_nombre(self, nombre):\n",
        "        self.nombre = nombre\n",
        "\n",
        "    def get_id(self):\n",
        "        return self._id\n",
        "\n",
        "    def set_cedula(self, id):\n",
        "        self._id = id\n",
        "\n",
        "\n",
        "class Paciente(Persona):\n",
        "    def __init__(self, nombre, cedula, temperatura, frecuencia_cardiaca, presion):\n",
        "        super().__init__(nombre, cedula)\n",
        "        self.temperatura = temperatura\n",
        "        self.frecuencia_cardiaca = frecuencia_cardiaca\n",
        "        self.presion = presion\n",
        "\n",
        "    def get_temperatura(self):\n",
        "        return self.temperatura\n",
        "\n",
        "    def set_temperatura(self, temperatura):\n",
        "        self.temperatura = temperatura\n",
        "\n",
        "    def get_frecuencia_cardiaca(self):\n",
        "        return self.frecuencia_cardiaca\n",
        "\n",
        "    def set_frecuencia_cardiaca(self, frecuencia_cardiaca):\n",
        "        self.frecuencia_cardiaca = frecuencia_cardiaca\n",
        "\n",
        "    def get_presion(self):\n",
        "        return self.presion\n",
        "\n",
        "    def set_presion(self, presion):\n",
        "        self.presion = presion\n",
        "\n",
        "    def verificar_estado(self):\n",
        "        # Implementa la lógica para verificar el estado del paciente\n",
        "        pass\n",
        "\n",
        "\n",
        "class Doctor(Persona):\n",
        "    def __init__(self, nombre, cedula, registro_medico):\n",
        "        super().__init__(nombre, cedula)\n",
        "        self.registro_medico = registro_medico\n",
        "        self.pacientes = []\n",
        "\n",
        "    def agregar_paciente(self, paciente):\n",
        "        for p in self.pacientes:\n",
        "            if p.get_id() == paciente.get_id():\n",
        "                return \"Paciente ya asignado\"\n",
        "        self.pacientes.append(paciente)\n",
        "        return \"Paciente asignado\"\n",
        "\n",
        "class SistemaGestionSignosVitales:\n",
        "    def __init__(self):\n",
        "        self.pacientes = []\n",
        "        self.doctores = []\n",
        "\n",
        "    def buscar_paciente(self, id):\n",
        "        for paciente in self.pacientes:\n",
        "            if paciente.get_id() == id:\n",
        "                return paciente\n",
        "        return None\n",
        "\n",
        "    def verificar_estado_paciente(self, id):\n",
        "        paciente = self.buscar_paciente(id)\n",
        "        if paciente:\n",
        "            return paciente.verificar_estado()\n",
        "        raise Exception(\"Paciente no existe\")\n",
        "\n",
        "    def agregar_paciente(self, paciente):\n",
        "        if self.buscar_paciente(paciente.get_id()) is None:\n",
        "            self.pacientes.append(paciente)\n",
        "            return \"Paciente agregado\"\n",
        "        return \"Paciente ya existe\"\n",
        "\n",
        "    def asignar_paciente_a_medico(self, paciente, doctor):\n",
        "        if paciente in self.pacientes and doctor not in self.doctores:\n",
        "            doctor.agregar_paciente(paciente)\n",
        "            self.doctores.append(doctor)\n",
        "            return \"Paciente asignado\"\n",
        "        return \"Error al asignar paciente\""
      ],
      "metadata": {
        "id": "n8DHkmYu8kl4"
      },
      "execution_count": null,
      "outputs": []
    },
    {
      "cell_type": "code",
      "source": [],
      "metadata": {
        "id": "pbyMlAeT_rSb"
      },
      "execution_count": null,
      "outputs": []
    },
    {
      "cell_type": "code",
      "source": [
        "sistema = SistemaGestionSignosVitales()\n"
      ],
      "metadata": {
        "id": "r_EOS27o8luU"
      },
      "execution_count": null,
      "outputs": []
    },
    {
      "cell_type": "code",
      "source": [
        "paciente1 = Paciente(\"Juan\", \"123456\", 37.5, 80, \"120/80\")\n"
      ],
      "metadata": {
        "id": "A_nh90dg9IpQ"
      },
      "execution_count": null,
      "outputs": []
    },
    {
      "cell_type": "code",
      "source": [
        "paciente2 = Paciente(\"Maria\", \"789012\", 36.8, 75, \"115/75\")\n"
      ],
      "metadata": {
        "id": "IajzvcmW9Kx2"
      },
      "execution_count": null,
      "outputs": []
    },
    {
      "cell_type": "code",
      "source": [
        "\n",
        "medico = Doctor(\"Dr. Perez\", \"654321\", \"123456\")\n",
        "print(sistema.agregar_paciente(paciente1))\n",
        "print(sistema.agregar_paciente(paciente2))\n",
        "\n"
      ],
      "metadata": {
        "colab": {
          "base_uri": "https://localhost:8080/"
        },
        "id": "CiEpiG8x9Lsg",
        "outputId": "cd7893ef-1a18-4eb7-b653-ca7821559e70"
      },
      "execution_count": null,
      "outputs": [
        {
          "output_type": "stream",
          "name": "stdout",
          "text": [
            "Paciente ya existe\n",
            "Paciente ya existe\n"
          ]
        }
      ]
    },
    {
      "cell_type": "code",
      "source": [
        "print(sistema.agregar_paciente(paciente1))\n",
        "print(sistema.agregar_paciente(paciente2))\n",
        "print(sistema.agregar_paciente(paciente2))"
      ],
      "metadata": {
        "colab": {
          "base_uri": "https://localhost:8080/"
        },
        "id": "8WkFzHq19aRJ",
        "outputId": "4e8a6a1f-8b71-4278-ee2c-468bcb67776d"
      },
      "execution_count": null,
      "outputs": [
        {
          "output_type": "stream",
          "name": "stdout",
          "text": [
            "Paciente ya existe\n",
            "Paciente ya existe\n",
            "Paciente ya existe\n"
          ]
        }
      ]
    },
    {
      "cell_type": "code",
      "source": [
        "print(sistema.verificar_estado_paciente(\"123456\"))\n",
        "print(sistema.verificar_estado_paciente(\"789012\"))"
      ],
      "metadata": {
        "colab": {
          "base_uri": "https://localhost:8080/"
        },
        "id": "JugRjAD59cu0",
        "outputId": "fe5e4558-a630-4c02-efeb-f39d632c9579"
      },
      "execution_count": null,
      "outputs": [
        {
          "output_type": "stream",
          "name": "stdout",
          "text": [
            "None\n",
            "None\n"
          ]
        }
      ]
    },
    {
      "cell_type": "code",
      "source": [
        "paciente1 = Paciente(\"Juan\", \"123456\", 37.5, 80, \"120/80\")\n",
        "medico = Doctor(\"Dr. Perez\", \"654321\", \"12345\")\n",
        "print(sistema.agregar_paciente(paciente1))"
      ],
      "metadata": {
        "colab": {
          "base_uri": "https://localhost:8080/"
        },
        "id": "9vLwDJMk-Fo3",
        "outputId": "0df4cf4b-4bb7-40e8-d91a-d3e00039b30e"
      },
      "execution_count": null,
      "outputs": [
        {
          "output_type": "stream",
          "name": "stdout",
          "text": [
            "Paciente ya existe\n"
          ]
        }
      ]
    },
    {
      "cell_type": "markdown",
      "source": [
        "Try/except"
      ],
      "metadata": {
        "id": "CrbYby0_L-bA"
      }
    },
    {
      "cell_type": "code",
      "source": [
        "def validar(msj): #Funcion para validar cualquier ingreso del usuario sea un numero\n",
        "    cont=0\n",
        "    while cont<3:\n",
        "        cont+=1\n",
        "        try:\n",
        "            entrada=int(input(msj))\n",
        "            return entrada\n",
        "        except:\n",
        "            print(\"Ingrese unicamente un numero\")\n",
        "\n",
        "def validarfloat(msj):\n",
        "    cont=0\n",
        "    while cont<3:\n",
        "        cont+=1\n",
        "        try:\n",
        "            entrada=float(input(msj))\n",
        "            return entrada\n",
        "        except:\n",
        "            print(\"Ingrese unicamente un numero\")"
      ],
      "metadata": {
        "id": "VEHX5BWG8-w4"
      },
      "execution_count": null,
      "outputs": []
    },
    {
      "cell_type": "code",
      "source": [
        "def validar_codigo(codigo):\n",
        "    while True:\n",
        "        try:\n",
        "            codigo=int(input(\"ingrese el codigo del equipo: \"))\n",
        "            if codigo in activos:\n",
        "                return\"el codigo{}, que esta buscando es correcto \". format(codigo)\n",
        "        except TypeError:\n",
        "            return\" el codigo no es numerico, ingreselo nuevamente \""
      ],
      "metadata": {
        "id": "7d8okNO9_t3q"
      },
      "execution_count": null,
      "outputs": []
    },
    {
      "cell_type": "code",
      "source": [
        "\n",
        "def validar_g(HbA1c):\n",
        "    intentos=0\n",
        "    while intentos<3:\n",
        "        try:\n",
        "            h=float(input(\"ingrese los resultados de la prueba Hemoglobina Glicosilada (HbA1c): \"))\n",
        "            if h.is_integer():\n",
        "                print(\"el numero ingresado es entero\")\n",
        "            else: print(\"el numero ingresado es flotante \")\n",
        "            return h\n",
        "        except ValueError:\n",
        "            print(\"valor no valido, por favor ingrese un numero\")\n",
        "            intentos+=1\n",
        "            print(\"ha ingresado mal tres veces el dato, el programa cerrará\")\n",
        "            return None\n",
        "\n",
        "def validar_e(edad):\n",
        "    intentos=0\n",
        "    while intentos<3:\n",
        "        try:\n",
        "            e=int(input(\"ingrese la edad del paciente: \"))\n",
        "            if e.is_integer():\n",
        "                print(\"el numero ingresado es entero\")\n",
        "            else: print(\"el numero ingresado es flotante \")\n",
        "            return e\n",
        "        except ValueError:\n",
        "            print(\"valor no valido, por favor ingrese un numero\")\n",
        "            intentos+=1\n",
        "            print(\"ha ingresado mal tres veces el dato, el programa cerrará\")\n",
        "            return None\n",
        "\n",
        "def validar_d(doc):\n",
        "    intentos=0\n",
        "    while intentos<3:\n",
        "        try:\n",
        "            d=float(input(\"ingrese el documento de identidad del paciente: \"))\n",
        "            if d.is_integer():\n",
        "                print(\"el numero ingresado es entero\")\n",
        "            else: print(\"el numero ingresado es flotante \")\n",
        "            return d\n",
        "        except ValueError:\n",
        "            print(\"valor no valido, por favor ingrese un numero\")\n",
        "            intentos+=1\n",
        "            print(\"ha ingresado mal tres veces el dato, el programa cerrará\")\n",
        "            return None"
      ],
      "metadata": {
        "id": "VsFEpaXL_8Wh"
      },
      "execution_count": null,
      "outputs": []
    },
    {
      "cell_type": "markdown",
      "source": [
        "Se define una lista nombres con tres elementos.\n",
        "El bloque try intenta acceder al elemento con índice 3 (nombres[3]).\n",
        "Como la lista solo tiene tres elementos (índice 0, 1 y 2), se producirá un IndexError.\n",
        "Al ocurrir la excepción, se ejecuta el bloque except IndexError.\n",
        "El bloque except imprime un mensaje indicando el error."
      ],
      "metadata": {
        "id": "ea29tgoWMjUL"
      }
    },
    {
      "cell_type": "code",
      "source": [
        "nombres = [\"Juan\", \"Maria\", \"Pedro\"]\n",
        "\n",
        "try:\n",
        "  # Intentamos acceder a un elemento con un índice fuera de rango\n",
        "  último_nombre = nombres[3]\n",
        "  print(f\"El último nombre en la lista es: {último_nombre}\")\n",
        "except IndexError:\n",
        "  print(\"¡Indice fuera de rango! La lista no tiene un cuarto elemento.\")"
      ],
      "metadata": {
        "id": "rE_WCKidMdhP"
      },
      "execution_count": null,
      "outputs": []
    },
    {
      "cell_type": "markdown",
      "source": [
        "Una biblioteca contiene libros y revistas. En ella puede haber varias copias de un mismo libro. Algunos de los\n",
        "libros son reservados sólo para préstamos a corto plazo. Todos los otros pueden ser prestados a cualquier\n",
        "miembro de la biblioteca por tres semanas. Los miembros de la biblioteca pueden normalmente solicitar hasta\n",
        "seis items de una vez, pero miembros del staff pueden solicitar hasta doce items a la vez. Solamente\n",
        "miembros del staff pueden obtener prestado revistas. El sistema debe conservar la pista de cuando los libros y revistas son"
      ],
      "metadata": {
        "id": "twQdJl1rAMH_"
      }
    },
    {
      "cell_type": "code",
      "source": [
        "class ItemBiblioteca:\n",
        "    def __init__(self, titulo):\n",
        "        self.titulo = titulo\n",
        "        self.disponible = True\n",
        "\n",
        "    def prestar(self):\n",
        "        if self.disponible:\n",
        "            self.disponible = False\n",
        "            return True\n",
        "        else:\n",
        "            return False\n",
        "\n",
        "    def devolver(self):\n",
        "        self.disponible = True\n",
        "\n",
        "\n",
        "class Libro(ItemBiblioteca):\n",
        "    def __init__(self, titulo, copias):\n",
        "        super().__init__(titulo)\n",
        "        self.copias = copias\n",
        "        self.reservado = False\n",
        "\n",
        "    def reservar(self):\n",
        "        if self.disponible:\n",
        "            self.reservado = True\n",
        "            self.copias -= 1\n",
        "            return True\n",
        "        else:\n",
        "            return False\n",
        "\n",
        "\n",
        "class Revista(ItemBiblioteca):\n",
        "    pass\n",
        "\n",
        "\n",
        "class Biblioteca:\n",
        "    def __init__(self):\n",
        "        self.libros = []\n",
        "        self.revistas = []\n",
        "\n",
        "    def agregar_libro(self, libro):\n",
        "        self.libros.append(libro)\n",
        "\n",
        "    def agregar_revista(self, revista):\n",
        "        self.revistas.append(revista)\n",
        "\n",
        "\n",
        "class Miembro:\n",
        "    def __init__(self, nombre, tipo):\n",
        "        self.nombre = nombre\n",
        "        self.tipo = tipo\n",
        "        self.items_prestados = []\n",
        "\n",
        "    def prestar_item(self, item):\n",
        "        if len(self.items_prestados) < 6 or self.tipo == 'staff':\n",
        "            if item.prestar():\n",
        "                self.items_prestados.append(item)\n",
        "                return True\n",
        "        return f\"no esta disponible\"\n",
        "\n",
        "    def devolver_item(self, item):\n",
        "        if item in self.items_prestados:\n",
        "            item.devolver()\n",
        "            self.items_prestados.remove(item)\n",
        "            return True\n",
        "        return False"
      ],
      "metadata": {
        "id": "08QHXaS6AMh6"
      },
      "execution_count": null,
      "outputs": []
    },
    {
      "cell_type": "code",
      "source": [
        "biblioteca = Biblioteca()"
      ],
      "metadata": {
        "id": "JCQlaB-ECzl6"
      },
      "execution_count": null,
      "outputs": []
    },
    {
      "cell_type": "code",
      "source": [
        "libro1 = Libro(\"El Señor de los Anillos\", 5)\n",
        "libro2 = Libro(\"Cien años de soledad\", 3)\n",
        "revista1 = Revista(\"National Geographic\")"
      ],
      "metadata": {
        "id": "csiHLVqfC3b5"
      },
      "execution_count": null,
      "outputs": []
    },
    {
      "cell_type": "code",
      "source": [
        "biblioteca.agregar_libro(libro1)\n",
        "biblioteca.agregar_libro(libro2)\n",
        "biblioteca.agregar_revista(revista1)"
      ],
      "metadata": {
        "id": "X186b7xjC68U"
      },
      "execution_count": null,
      "outputs": []
    },
    {
      "cell_type": "code",
      "source": [
        "miembro = Miembro(\"Juan\", \"normal\")"
      ],
      "metadata": {
        "id": "lD1RDLm6C-pT"
      },
      "execution_count": null,
      "outputs": []
    },
    {
      "cell_type": "code",
      "source": [
        "miembro.prestar_item(libro1)\n",
        "print(libro1.disponible)"
      ],
      "metadata": {
        "colab": {
          "base_uri": "https://localhost:8080/"
        },
        "id": "NOQmOEnyDBpb",
        "outputId": "c3377545-b3fb-4e5b-92c4-efbc2def8263"
      },
      "execution_count": null,
      "outputs": [
        {
          "output_type": "stream",
          "name": "stdout",
          "text": [
            "False\n"
          ]
        }
      ]
    },
    {
      "cell_type": "code",
      "source": [
        "miembro.devolver_item(libro1)\n",
        "print(libro1.disponible)"
      ],
      "metadata": {
        "colab": {
          "base_uri": "https://localhost:8080/"
        },
        "id": "S75w5OXIDE3R",
        "outputId": "c00ec49a-bfa5-440d-8cd7-fa705122c66d"
      },
      "execution_count": null,
      "outputs": [
        {
          "output_type": "stream",
          "name": "stdout",
          "text": [
            "True\n"
          ]
        }
      ]
    },
    {
      "cell_type": "code",
      "source": [
        "libro2.reservar()\n",
        "print(libro2.reservado)  # True\n",
        "print(libro2.copias)"
      ],
      "metadata": {
        "colab": {
          "base_uri": "https://localhost:8080/"
        },
        "id": "tvpc_cluDHuY",
        "outputId": "6c22e389-b746-4d60-b4ef-867cd54aecb8"
      },
      "execution_count": null,
      "outputs": [
        {
          "output_type": "stream",
          "name": "stdout",
          "text": [
            "True\n",
            "2\n"
          ]
        }
      ]
    },
    {
      "cell_type": "markdown",
      "source": [
        "**Análisis de resultados neurologicos en pacientes***\n",
        "\n",
        "En el contexto del análisis de datos neurológicos en pacientes, se solicita diseñar un programa que permita\n",
        "registrar la información de pacientes y realizar un análisis de sus resultados de pruebas neurológicas. El\n",
        "objetivo es calcular el promedio de los resultados y determinar si algún paciente presenta un problema\n",
        "neurológico.\n",
        "El programa debe permitir registrar información de pacientes, incluyendo su nombre, edad y resultados de\n",
        "pruebas neurológicas. Luego, el programa debe ofrecer la opción de calcular y mostrar el promedio de los\n",
        "resultados de pruebas para cada paciente. Posteriormente, el sistema debe determinar si algún paciente tiene\n",
        "un problema neurológico basado en el promedio calculado y mostrar un mensaje indicando si el paciente tiene\n",
        "o no dicho problema (Determine un valor límite para definir si tiene un problema neurológico). Antes de\n",
        "realizar cualquier cálculo, el programa debe validar la existencia del paciente en la base de datos. Las pruebas\n",
        "de validación de existencia, cálculos de promedio y detección de problemas neurológicos deben realizarse\n",
        "para cada paciente registrado en el sistema."
      ],
      "metadata": {
        "id": "2eTRI-fjFNF5"
      }
    },
    {
      "cell_type": "code",
      "source": [
        "class Paciente:\n",
        "    def __init__(self, nombre, edad):\n",
        "        self.nombre = nombre\n",
        "        self.edad = edad\n",
        "        self.resultados = []\n",
        "\n",
        "    def agregar_resultado(self, resultado):\n",
        "        self.resultados.append(resultado)\n",
        "\n",
        "    def calcular_promedio(self):\n",
        "        if len(self.resultados) > 0:\n",
        "            return sum(self.resultados) / len(self.resultados)\n",
        "        else:\n",
        "            return None\n",
        "\n",
        "    def tiene_problema_neurologico(self, valor_limite):\n",
        "        promedio = self.calcular_promedio()\n",
        "        if promedio is not None and promedio > valor_limite:\n",
        "            return True\n",
        "        else:\n",
        "            return False\n",
        "\n",
        "    def __str__(self):\n",
        "        return f\"Paciente: {self.nombre}, Edad: {self.edad}\"\n",
        "\n",
        "\n",
        "def buscar_paciente(pacientes, nombre):\n",
        "    for paciente in pacientes:\n",
        "        if paciente.nombre == nombre:\n",
        "            return paciente\n",
        "    return None\n",
        "\n",
        "\n",
        "# Función principal\n",
        "def main():\n",
        "    pacientes = []\n",
        "\n",
        "    while True:\n",
        "        opcion = input(\"1. Registrar paciente\\n2. Agregar resultado de prueba\\n3. Mostrar resultados y promedio\\n4. Salir\\nOpción: \")\n",
        "\n",
        "        if opcion == \"1\":\n",
        "            nombre = input(\"Ingrese el nombre del paciente: \")\n",
        "            edad = int(input(\"Ingrese la edad del paciente: \"))\n",
        "            paciente = Paciente(nombre, edad)\n",
        "            pacientes.append(paciente)\n",
        "            print(\"Paciente registrado.\")\n",
        "\n",
        "        elif opcion == \"2\":\n",
        "            nombre = input(\"Ingrese el nombre del paciente: \")\n",
        "            paciente = buscar_paciente(pacientes, nombre)\n",
        "            if paciente:\n",
        "                resultado = float(input(\"Ingrese el resultado de la prueba: \"))\n",
        "                paciente.agregar_resultado(resultado)\n",
        "                print(\"Resultado agregado.\")\n",
        "            else:\n",
        "                print(\"Paciente no encontrado.\")\n",
        "\n",
        "        elif opcion == \"3\":\n",
        "            nombre = input(\"Ingrese el nombre del paciente: \")\n",
        "            paciente = buscar_paciente(pacientes, nombre)\n",
        "            if paciente:\n",
        "                print(f\"Promedio de resultados: {paciente.calcular_promedio()}\")\n",
        "                if paciente.tiene_problema_neurologico(5.0):\n",
        "                    print(\"El paciente tiene un problema neurológico.\")\n",
        "                else:\n",
        "                    print(\"El paciente no tiene un problema neurológico.\")\n",
        "            else:\n",
        "                print(\"Paciente no encontrado.\")\n",
        "\n",
        "        elif opcion == \"4\":\n",
        "            break\n",
        "\n",
        "        else:\n",
        "            print(\"Opción inválida. Por favor, intente nuevamente.\")\n",
        "\n",
        "\n",
        "if __name__ == \"__main__\":\n",
        "    main()"
      ],
      "metadata": {
        "colab": {
          "base_uri": "https://localhost:8080/"
        },
        "id": "K8HFyIeSFQaw",
        "outputId": "bd23a372-8fc0-45f3-f59d-99e6695ec84c"
      },
      "execution_count": null,
      "outputs": [
        {
          "name": "stdout",
          "output_type": "stream",
          "text": [
            "1. Registrar paciente\n",
            "2. Agregar resultado de prueba\n",
            "3. Mostrar resultados y promedio\n",
            "4. Salir\n",
            "Opción: 1\n",
            "Ingrese el nombre del paciente: nicole\n",
            "Ingrese la edad del paciente: 19\n",
            "Paciente registrado.\n",
            "1. Registrar paciente\n",
            "2. Agregar resultado de prueba\n",
            "3. Mostrar resultados y promedio\n",
            "4. Salir\n",
            "Opción: 2\n",
            "Ingrese el nombre del paciente: nicole\n",
            "Ingrese el resultado de la prueba: 1542514\n",
            "Resultado agregado.\n",
            "1. Registrar paciente\n",
            "2. Agregar resultado de prueba\n",
            "3. Mostrar resultados y promedio\n",
            "4. Salir\n",
            "Opción: 3\n",
            "Ingrese el nombre del paciente: nicole\n",
            "Promedio de resultados: 1542514.0\n",
            "El paciente tiene un problema neurológico.\n",
            "1. Registrar paciente\n",
            "2. Agregar resultado de prueba\n",
            "3. Mostrar resultados y promedio\n",
            "4. Salir\n",
            "Opción: 4\n"
          ]
        }
      ]
    },
    {
      "cell_type": "markdown",
      "source": [
        "**Gestión de equipos médicos**\n",
        "\n",
        "En el ámbito de la gestión de equipos médicos, se plantea la necesidad de desarrollar un sistema que permita\n",
        "manejar la información de diversos equipos utilizados en el campo de la salud. Para ello, se propone la\n",
        "creación de una clase principal denominada \"EquipoMedico\", que contendrá atributos como el nombre del\n",
        "equipo, la marca y el estado de funcionamiento actual del mismo. Con el objetivo de lograr una mayor especialización y aprovechar las particularidades de cada tipo de equipomédico, se sugiere la creación de subclases específicas que heredan de la clase principal \"EquipoMedico\". Estas subclases estarán destinadas a representar diferentes tipos de equipos médicos, como\"ResonanciaMagnetica\", \"Electrocardiograma\" y otros. Cada subclase tendrá la posibilidad de definir\n",
        "métodos que sean relevantes para el tipo de equipo médico que representan. Estos métodos podrán abordar\n",
        "acciones específicas que se relacionen con el funcionamiento y la operación de cada equipo en particular. Por\n",
        "ejemplo, la subclase \"ResonanciaMagnetica\" podría tener métodos para configurar los parámetros de imagen, mientras que la subclase \"Electrocardiograma\" podría tener métodos para analizar y generar reportes de la\n",
        "actividad cardíaca. El sistema deberá permitir la creación de instancias de las subclases, ingresando los datos correspondientes a\n",
        "cada equipo médico, como su nombre, marca y estado de funcionamiento. Además, se espera que cada\n",
        "subclase pueda aprovechar los métodos heredados de la clase principal, así como implementar nuevos\n",
        "métodos según sus características específicas"
      ],
      "metadata": {
        "id": "V2eG8PdXH3cU"
      }
    },
    {
      "cell_type": "code",
      "source": [
        "class EquipoMedico:\n",
        "    def __init__(self, nombre, marca, estado_funcionamiento):\n",
        "        self.nombre = nombre\n",
        "        self.marca = marca\n",
        "        self.estado_funcionamiento = estado_funcionamiento\n",
        "\n",
        "    def __str__(self):\n",
        "        return f\"Equipo: {self.nombre}, Marca: {self.marca}, Estado: {self.estado_funcionamiento}\"\n",
        "\n",
        "\n",
        "class ResonanciaMagnetica(EquipoMedico):\n",
        "    def __init__(self, nombre, marca, estado_funcionamiento):\n",
        "        super().__init__(nombre, marca, estado_funcionamiento)\n",
        "\n",
        "    def configurar_parametros_imagen(self, resolucion):\n",
        "        print(f\"Configurando parámetros de imagen para la resonancia magnética {self.nombre} con resolución {resolucion}\")\n",
        "\n",
        "\n",
        "class Electrocardiograma(EquipoMedico):\n",
        "    def __init__(self, nombre, marca, estado_funcionamiento):\n",
        "        super().__init__(nombre, marca, estado_funcionamiento)\n",
        "\n",
        "    def analizar_actividad_cardiaca(self, paciente_id):\n",
        "        print(f\"Analizando actividad cardíaca para el electrocardiograma {self.nombre} del paciente {paciente_id}\")\n"
      ],
      "metadata": {
        "id": "7g8WOfptIZHs"
      },
      "execution_count": null,
      "outputs": []
    },
    {
      "cell_type": "code",
      "source": [
        "if __name__ == \"__main__\":\n",
        "    resonancia = ResonanciaMagnetica(\"Resonancia\", \"Siemens\", \"Operativo\")\n",
        "    electro = Electrocardiograma(\"ECG\", \"Phillips\", \"Operativo\")\n",
        "\n",
        "    print(resonancia)\n",
        "    print(electro)\n",
        "\n",
        "    resonancia.configurar_parametros_imagen(\"Alta\")\n",
        "    electro.analizar_actividad_cardiaca(\"Paciente-001\")"
      ],
      "metadata": {
        "colab": {
          "base_uri": "https://localhost:8080/"
        },
        "id": "6f5LCRlRIaQg",
        "outputId": "65d7e62a-f914-40ec-9106-ab2dd3da2b76"
      },
      "execution_count": null,
      "outputs": [
        {
          "output_type": "stream",
          "name": "stdout",
          "text": [
            "Equipo: Resonancia, Marca: Siemens, Estado: Operativo\n",
            "Equipo: ECG, Marca: Phillips, Estado: Operativo\n",
            "Configurando parámetros de imagen para la resonancia magnética Resonancia con resolución Alta\n",
            "Analizando actividad cardíaca para el electrocardiograma ECG del paciente Paciente-001\n"
          ]
        }
      ]
    },
    {
      "cell_type": "markdown",
      "source": [
        "**5. GESTIÓN DE CONSULTAS VETERINARIAS**\n",
        "\n",
        "\n",
        "En el contexto de una clínica veterinaria, se requiere desarrollar un sistema que permita gestionar las\n",
        "consultas de los pacientes animales. Debes diseñar un programa que maneje la información de los pacientes ylas consultas, y que ofrezca funcionalidades específicas para llevar un registro ordenado. El programa diseñado para la gestión de consultas veterinarias ofrece la capacidad de registrar informacióndetallada de pacientes animales, agendar y almacenar consultas junto con diagnósticos. Los usuarios puedenagregar nuevos animales con su respectiva información, programar consultas para estos pacientes, y luegovisualizar la información completa de todas las consultas realizadas. Además, se ha implementado una\n",
        "restricción para evitar la creación de objetos repetidos de la misma instancia de animal, garantizando la\n",
        "unicidad en el registro de pacientes. De esta manera, el programa facilita el seguimiento ordenado de las\n",
        "consultas y brinda una experiencia de gestión eficiente en el entorno de una clínica veterinaria"
      ],
      "metadata": {
        "id": "E26f2-JHIzBa"
      }
    },
    {
      "cell_type": "code",
      "source": [
        "class Animal:\n",
        "    def __init__(self, nombre, especie, raza, edad):\n",
        "        self.nombre = nombre\n",
        "        self.especie = especie\n",
        "        self.raza = raza\n",
        "        self.edad = edad\n",
        "\n",
        "    def __str__(self):\n",
        "        return f\"Nombre: {self.nombre}, Especie: {self.especie}, Raza: {self.raza}, Edad: {self.edad}\"\n",
        "\n",
        "\n",
        "class Consulta:\n",
        "    def __init__(self, animal, fecha, motivo, diagnostico):\n",
        "        self.animal = animal\n",
        "        self.fecha = fecha\n",
        "        self.motivo = motivo\n",
        "        self.diagnostico = diagnostico\n",
        "\n",
        "    def __str__(self):\n",
        "        return f\"Fecha: {self.fecha}, Motivo: {self.motivo}, Diagnóstico: {self.diagnostico}\"\n",
        "\n",
        "\n",
        "class ClinicaVeterinaria:\n",
        "    def __init__(self):\n",
        "        self.pacientes = {}\n",
        "        self.consultas = []\n",
        "\n",
        "    def agregar_animal(self, animal):\n",
        "        key = (animal.nombre, animal.especie)\n",
        "        if key not in self.pacientes:\n",
        "            self.pacientes[key] = animal\n",
        "\n",
        "    def programar_consulta(self, animal, fecha, motivo, diagnostico):\n",
        "        consulta = Consulta(animal, fecha, motivo, diagnostico)\n",
        "        self.consultas.append(consulta)\n",
        "\n",
        "    def mostrar_consultas(self):\n",
        "        for consulta in self.consultas:\n",
        "            print(f\"Animal: {consulta.animal}, {consulta}\")"
      ],
      "metadata": {
        "id": "w8CjFlweI8L9"
      },
      "execution_count": null,
      "outputs": []
    },
    {
      "cell_type": "code",
      "source": [
        "if __name__ == \"__main__\":\n",
        "    clinica = ClinicaVeterinaria()\n",
        "\n",
        "    # Agregar animales\n",
        "    animal1 = Animal(\"Firulais\", \"Perro\", \"Labrador\", 5)\n",
        "    animal2 = Animal(\"Mishi\", \"Gato\", \"Siames\", 3)\n",
        "\n",
        "    clinica.agregar_animal(animal1)\n",
        "    clinica.agregar_animal(animal2)\n",
        "\n",
        "    # Programar consultas\n",
        "    clinica.programar_consulta(animal1, \"2024-03-12\", \"Vacunación\", \"Saludable\")\n",
        "    clinica.programar_consulta(animal2, \"2024-03-15\", \"Control de peso\", \"Sobrepeso\")\n",
        "\n",
        "    # Mostrar consultas\n",
        "    clinica.mostrar_consultas()"
      ],
      "metadata": {
        "colab": {
          "base_uri": "https://localhost:8080/"
        },
        "id": "HFHdEztWKlxL",
        "outputId": "6243abeb-3694-45d0-8d7e-141793aeca88"
      },
      "execution_count": null,
      "outputs": [
        {
          "output_type": "stream",
          "name": "stdout",
          "text": [
            "Animal: Nombre: Firulais, Especie: Perro, Raza: Labrador, Edad: 5, Fecha: 2024-03-12, Motivo: Vacunación, Diagnóstico: Saludable\n",
            "Animal: Nombre: Mishi, Especie: Gato, Raza: Siames, Edad: 3, Fecha: 2024-03-15, Motivo: Control de peso, Diagnóstico: Sobrepeso\n"
          ]
        }
      ]
    },
    {
      "cell_type": "markdown",
      "source": [
        "**6. SISTEMA DE GESTIÓN DE TAREAS**\n",
        "\n",
        "\n",
        "Imagina que estás creando un sistema para ayudar a las personas a gestionar sus tareas diarias. Diseña unprograma que permita crear, editar y realizar un seguimiento de las tareas pendientes. El programa consta de dos clases fundamentales: la clase ‘Tarea’ y la clase ‘listaTareas’. La clase ‘Tarea’ posee atributos como ‘descripcion’, que almacena la descripción de la tarea, ‘prioridad’ que indica la urgencia\n",
        "de la tarea (\"Alta\", \"Media\" o \"Baja\"), y ‘completada’ que señala si la tarea se ha completado. Esta clase\n",
        "dispone de métodos para marcar la tarea como completada, editar la descripción y prioridad. Por otro lado, la\n",
        "clase ‘listaTareas’ contiene una lista para almacenar las tareas creadas. Sus métodos permiten agregar tareas a\n",
        "la lista, visualizar tareas pendientes y tareas completadas. En conjunto, el programa permite a los usuarios\n",
        "crear, editar y realizar seguimiento de tareas pendientes, proporcionando una herramienta eficaz para la\n",
        "gestión de actividades diarias."
      ],
      "metadata": {
        "id": "ElwawIjxKsio"
      }
    },
    {
      "cell_type": "code",
      "source": [
        "class Tarea:\n",
        "    def __init__(self, descripcion, prioridad):\n",
        "        self.descripcion = descripcion\n",
        "        self.prioridad = prioridad\n",
        "        self.completada = False\n",
        "\n",
        "    def marcar_completada(self):\n",
        "        self.completada = True\n",
        "\n",
        "    def editar_descripcion(self, nueva_descripcion):\n",
        "        self.descripcion = nueva_descripcion\n",
        "\n",
        "    def editar_prioridad(self, nueva_prioridad):\n",
        "        self.prioridad = nueva_prioridad\n",
        "\n",
        "    def __str__(self):\n",
        "        estado = \"Completada\" if self.completada else \"Pendiente\"\n",
        "        return f\"Descripción: {self.descripcion}, Prioridad: {self.prioridad}, Estado: {estado}\"\n",
        "\n",
        "\n",
        "class ListaTareas:\n",
        "    def __init__(self):\n",
        "        self.tareas = []\n",
        "\n",
        "    def agregar_tarea(self, tarea):\n",
        "        self.tareas.append(tarea)\n",
        "\n",
        "    def mostrar_tareas_pendientes(self):\n",
        "        for tarea in self.tareas:\n",
        "            if not tarea.completada:\n",
        "                print(tarea)\n",
        "\n",
        "    def mostrar_tareas_completadas(self):\n",
        "        for tarea in self.tareas:\n",
        "            if tarea.completada:\n",
        "                print(tarea)\n",
        "\n",
        "\n"
      ],
      "metadata": {
        "id": "t3Gx1mO6Kypu"
      },
      "execution_count": null,
      "outputs": []
    },
    {
      "cell_type": "code",
      "source": [
        "# Ejemplo de uso\n",
        "if __name__ == \"__main__\":\n",
        "    lista = ListaTareas()\n",
        "\n",
        "    # Agregar tareas\n",
        "    tarea1 = Tarea(\"Hacer la compra\", \"Alta\")\n",
        "    tarea2 = Tarea(\"Estudiar para el examen\", \"Media\")\n",
        "    tarea3 = Tarea(\"Llamar al médico\", \"Baja\")\n",
        "\n",
        "    lista.agregar_tarea(tarea1)\n",
        "    lista.agregar_tarea(tarea2)\n",
        "    lista.agregar_tarea(tarea3)\n",
        "\n",
        "    # Marcar tarea como completada\n",
        "    tarea2.marcar_completada()\n",
        "\n",
        "    # Mostrar tareas pendientes y completadas\n",
        "    print(\"Tareas pendientes:\")\n",
        "    lista.mostrar_tareas_pendientes()\n",
        "\n",
        "    print(\"\\nTareas completadas:\")\n",
        "    lista.mostrar_tareas_completadas()"
      ],
      "metadata": {
        "colab": {
          "base_uri": "https://localhost:8080/"
        },
        "id": "ZrKnObrPL5n0",
        "outputId": "f41bae9d-e655-4aac-b47c-b2fd740031fd"
      },
      "execution_count": null,
      "outputs": [
        {
          "output_type": "stream",
          "name": "stdout",
          "text": [
            "Tareas pendientes:\n",
            "Descripción: Hacer la compra, Prioridad: Alta, Estado: Pendiente\n",
            "Descripción: Llamar al médico, Prioridad: Baja, Estado: Pendiente\n",
            "\n",
            "Tareas completadas:\n",
            "Descripción: Estudiar para el examen, Prioridad: Media, Estado: Completada\n"
          ]
        }
      ]
    }
  ],
  "metadata": {
    "colab": {
      "name": "Te damos la bienvenida a Colaboratory",
      "toc_visible": true,
      "provenance": [],
      "include_colab_link": true
    },
    "kernelspec": {
      "display_name": "Python 3",
      "name": "python3"
    }
  },
  "nbformat": 4,
  "nbformat_minor": 0
}