{
 "cells": [
  {
   "cell_type": "code",
   "execution_count": null,
   "metadata": {},
   "outputs": [
    {
     "ename": "",
     "evalue": "",
     "output_type": "error",
     "traceback": [
      "\u001b[1;31mRunning cells with 'c:\\Users\\DRA01\\AppData\\Local\\Programs\\Python\\Python311\\python.exe' requires the ipykernel package.\n",
      "\u001b[1;31mRun the following command to install 'ipykernel' into the Python environment. \n",
      "\u001b[1;31mCommand: 'c:/Users/DRA01/AppData/Local/Programs/Python/Python311/python.exe -m pip install ipykernel -U --user --force-reinstall'"
     ]
    }
   ],
   "source": [
    "class pasajero:\n",
    "    def __init__(self,nombre, apellido, edad, pasaporte):\n",
    "        self.nombre=nombre #%%atributos de instancia self.no,bre y despues del igual esta el atributo\n",
    "        self.apellido=apellido\n",
    "        self.edad=edad\n",
    "        self.pasaporte=pasaporte\n",
    "    def mostrarInformacion(self): #%%es un metodo de instancia solo se necesita el self y no necesariamente poner el nombre y lo dema porque sigue indentado en la clase pasajero\n",
    "        print(f\"el pasajero es: {self.nombre}{self.apellido}\")\n"
   ]
  },
  {
   "cell_type": "code",
   "execution_count": null,
   "metadata": {},
   "outputs": [
    {
     "ename": "",
     "evalue": "",
     "output_type": "error",
     "traceback": [
      "\u001b[1;31mRunning cells with 'c:\\Users\\DRA01\\AppData\\Local\\Programs\\Python\\Python311\\python.exe' requires the ipykernel package.\n",
      "\u001b[1;31mRun the following command to install 'ipykernel' into the Python environment. \n",
      "\u001b[1;31mCommand: 'c:/Users/DRA01/AppData/Local/Programs/Python/Python311/python.exe -m pip install ipykernel -U --user --force-reinstall'"
     ]
    }
   ],
   "source": [
    "class Vuelo:\n",
    "    def __init__(self,numero,origen,destino,cantidad):\n",
    "        self.numeroVuelo=numero\n",
    "        self._origen=origen #%% puede elegir el origen y el destino despues nho puede hacer cambio por el encapsulamiento protegido\n",
    "        self._destino=destino\n",
    "        self.cantidad=cantidad\n",
    "        self.asientosdisponibles=cantidad  \n",
    "        self.reservas=[]#%% reserva es un atributo de instancia\n",
    "        #%% aqui debo crear una lidta para wque me almacene la cantidad de personas que van a ingresar\n",
    "        #no olvidar la dependencia\n",
    "\n",
    "    def mostrarInformacion (self):\n",
    "        print(f\"el vuelo numero {self.numeroVuelo}, con origen {self._origen} y destino {self._destino} tiene {self.cantidad} asientos disponibles{self.cantidad}\")\n",
    "    def reservarAsiento(self,pasajero): #%%relación de asociacion, en este cason el pasajero es un atributo que despues se debe definir\n",
    "        #%para yo resevar un asiento del vuelo \n",
    "        if pasajero in self.reservas: #para buscar si el pasajero ya tiene una reserva\n",
    "            print (f\" el usuario {pasajero.nombre} ya tiene una reserva\")\n",
    "        elif self.asientosdisponibles >0:\n",
    "            self.reservas.append (pasajero) #%% agregar a la lista\n",
    "            self.asientosdisponibles-=1\n",
    "            print(f\"el ususario {pasajero.nombre} realizo la reseva\")\n",
    "        else:\n",
    "            print(\"No hay asientos disponibles\")\n",
    "            \n",
    "\n"
   ]
  },
  {
   "cell_type": "code",
   "execution_count": null,
   "metadata": {},
   "outputs": [
    {
     "ename": "",
     "evalue": "",
     "output_type": "error",
     "traceback": [
      "\u001b[1;31mRunning cells with 'c:\\Users\\DRA01\\AppData\\Local\\Programs\\Python\\Python311\\python.exe' requires the ipykernel package.\n",
      "\u001b[1;31mRun the following command to install 'ipykernel' into the Python environment. \n",
      "\u001b[1;31mCommand: 'c:/Users/DRA01/AppData/Local/Programs/Python/Python311/python.exe -m pip install ipykernel -U --user --force-reinstall'"
     ]
    }
   ],
   "source": [
    "pasajero1=Pasajero(\"Isa\",\"ariza\",23,\"PA2008\") #%% Una instancia del objeto de la clase pasajero"
   ]
  },
  {
   "cell_type": "code",
   "execution_count": null,
   "metadata": {},
   "outputs": [
    {
     "ename": "",
     "evalue": "",
     "output_type": "error",
     "traceback": [
      "\u001b[1;31mRunning cells with 'c:\\Users\\DRA01\\AppData\\Local\\Programs\\Python\\Python311\\python.exe' requires the ipykernel package.\n",
      "\u001b[1;31mRun the following command to install 'ipykernel' into the Python environment. \n",
      "\u001b[1;31mCommand: 'c:/Users/DRA01/AppData/Local/Programs/Python/Python311/python.exe -m pip install ipykernel -U --user --force-reinstall'"
     ]
    }
   ],
   "source": [
    "vuelo1=Vuelo(\"MK123\", \"MEDELLIN\",\"cARTAGENA\",80)\n"
   ]
  },
  {
   "cell_type": "code",
   "execution_count": null,
   "metadata": {},
   "outputs": [
    {
     "ename": "",
     "evalue": "",
     "output_type": "error",
     "traceback": [
      "\u001b[1;31mRunning cells with 'c:\\Users\\DRA01\\AppData\\Local\\Programs\\Python\\Python311\\python.exe' requires the ipykernel package.\n",
      "\u001b[1;31mRun the following command to install 'ipykernel' into the Python environment. \n",
      "\u001b[1;31mCommand: 'c:/Users/DRA01/AppData/Local/Programs/Python/Python311/python.exe -m pip install ipykernel -U --user --force-reinstall'"
     ]
    }
   ],
   "source": [
    "vuelo1.mostrarInformacion ()\n"
   ]
  },
  {
   "cell_type": "code",
   "execution_count": null,
   "metadata": {},
   "outputs": [
    {
     "ename": "",
     "evalue": "",
     "output_type": "error",
     "traceback": [
      "\u001b[1;31mRunning cells with 'c:\\Users\\DRA01\\AppData\\Local\\Programs\\Python\\Python311\\python.exe' requires the ipykernel package.\n",
      "\u001b[1;31mRun the following command to install 'ipykernel' into the Python environment. \n",
      "\u001b[1;31mCommand: 'c:/Users/DRA01/AppData/Local/Programs/Python/Python311/python.exe -m pip install ipykernel -U --user --force-reinstall'"
     ]
    }
   ],
   "source": [
    "vuelo1.reservarAsiento(pasajero1)\n"
   ]
  },
  {
   "cell_type": "code",
   "execution_count": null,
   "metadata": {},
   "outputs": [],
   "source": [
    "vuelo1.mostrarInformacion()\n"
   ]
  }
 ],
 "metadata": {
  "kernelspec": {
   "display_name": "Python 3",
   "language": "python",
   "name": "python3"
  },
  "language_info": {
   "name": "python",
   "version": "3.11.3"
  }
 },
 "nbformat": 4,
 "nbformat_minor": 2
}
