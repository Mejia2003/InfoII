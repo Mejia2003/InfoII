{
 "cells": [
  {
   "cell_type": "code",
   "execution_count": 6,
   "metadata": {},
   "outputs": [],
   "source": [
    "class Pasajero: #DEBE EMPEZAR CON MAYUSCULA\n",
    "    def __init__(self,nombre, apellido, edad, pasaporte):#en parentesis van los atributos que el va recibir\n",
    "        self.nombre=nombre #%%atributos de instancia self.no,bre y despues del igual esta el atributo\n",
    "        self.apellido=apellido #encapsulación publica\n",
    "        self.edad=edad\n",
    "        self.pasaporte=pasaporte\n",
    "    def mostrarInformacion(self): #%%es un metodo de instancia solo se necesita el self y no necesariamente poner el nombre y lo dema porque sigue indentado en la clase pasajero\n",
    "        print(f\"el pasajero es: {self.nombre}{self.apellido}\")\n",
    "\n",
    "    #\n"
   ]
  },
  {
   "cell_type": "code",
   "execution_count": 49,
   "metadata": {},
   "outputs": [],
   "source": [
    "class Vuelo: #clase vuelo\n",
    "    def __init__(self,numero,origen,destino,cantidad): #self y los atributos que va a recibir, no le pasamos los asientos porque se van a ir calculando de acuerdo a la reseva y cantidad total\n",
    "        self.numeroVuelo=numero\n",
    "        self._origen=origen #%% puede elegir el origen y el destino despues nho puede hacer cambio por el encapsulamiento protegido\n",
    "        self._destino=destino\n",
    "        self.cantidad=cantidad\n",
    "        self.asientosdisponibles=cantidad  \n",
    "        self.reservas=[]#%% reserva es un atributo de instancia\n",
    "        #%% aqui debo crear una lista para que me almacene la cantidad de personas que van a ingresar\n",
    "        #no olvidar la dependencia, para que cada uno de los vuelos agregados se añada, por ello debo llamar un metodo\n",
    "        reservaVuelo.adicionVuelo(self)\n",
    "        \n",
    "\n",
    "    def mostrarInformacion (self): #metodo de instancia por el self\n",
    "        print(f\"el vuelo numero {self.numeroVuelo}, de  {self._origen} y con {self._destino} tiene {self.cantidad} asientos disponibles{self.cantidad}\")\n",
    "\n",
    "    def reservarAsiento(self,pasajero): #%%relación de asociacion, en este caso el pasajero es un atributo que despues se debe definir\n",
    "        #%para yo resevar un asiento del vuelo \n",
    "        #condicionales para hacer la reserva\n",
    "        if pasajero in self.reservas: #para buscar si el pasajero ya tiene una reserva\n",
    "            print (f\" el usuario {pasajero.nombre} ya tiene una reserva\")\n",
    "        elif self.asientosdisponibles >0:\n",
    "            self.reservas.append (pasajero) #%% agregar a la lista\n",
    "            self.asientosdisponibles-=1 #disminuye la cantidad de asientos\n",
    "            print(f\"el ususario {pasajero.nombre} realizo la reseva\")\n",
    "        else:\n",
    "            print(\"No hay asientos disponibles\")\n",
    "    \n",
    "    def removerAsiento (self,pasajero):#relacion de asociacion\n",
    "        if pasajero in self.reservas:\n",
    "            self.reservas.remove(pasajero)\n",
    "            self.asientosdisponibles +=1 #me esta liberando un asiento\n",
    "            print(f\"el pasajero {pasajero.nombre} ha cancelado la reseva del vuelo {self.numeroVuelo}\")\n",
    "        else:\n",
    "            print (f\"el pasajero {pasajero.nombre} con pasaporte {pasajero.pasaporte} no tiene una reserva en el vuelo {self.numeroVuelo}\")\n",
    "\n",
    "class reservaVuelo:\n",
    "    vuelos=[] # se va almacenar los vuelos atributo de clase\n",
    "    def __init__(self,aerolinea):\n",
    "        self.aerolinea=aerolinea\n",
    "    \n",
    "\n",
    "    @classmethod\n",
    "    def adicionVuelo (cls,vuelo): #metodo de clase\n",
    "        #no se puede agregar el mismo vuelo\n",
    "        if vuelo in cls.vuelos:\n",
    "            print (f\"el vuelo {vuelo.numeroVuelo} ya se ha agregado\")\n",
    "        else:\n",
    "            cls.vuelos.append(vuelo)\n",
    "            print(\"vuelo añadido\")\n",
    "            #caso hipotetico en que el vuelo que busque exista\n",
    "    def busquedaVuelo (self, numero): #metodo de instancia, es mejor para acceder a atributos de instancia y de clase\n",
    "        #para que el busque el vuelo, debo mirar que numero de vuelo coincide, para ellos se recorre la lista con el ciclo for\n",
    "        for i in reservaVuelo.vuelos: #para i en la lista vuelos buscar el numero que necedito y por ende es necesario los condicionales\n",
    "            if i.numeroVuelo==numero: #si el numero de vuelo es igual al atributo buscado entonces me lo imprime\n",
    "                print(f\"\"\"vuelo encontrado:\n",
    "                        {i.mostrarInformacion()} \"\"\") # me muestra la informacion de vuelo igual al numero de vuelo\n",
    "            return\n",
    "\n",
    "    def vuelosDisponibles (self):#metodo de insancia \n",
    "        #mostrar lo que hay en la lista con el ciclo for\n",
    "        for j in reservaVuelo.vuelos: #para cada posicion de la lista j va a mirar y me va a dar la inofrmacion de esa ubicacion\n",
    "            print(j.mostrarInformacion())\n",
    "    \n",
    "    def realizarReserva (self, pasajero,vuelo):\n",
    "        print(vuelo.reservaAsiento (pasajero))\n",
    "    \n",
    "    def cancelarReserva (self,pasajero,vuelo):\n",
    "        return vuelo.removerAsiento(pasajero)\n",
    "            \n",
    "            \n",
    "\n"
   ]
  },
  {
   "cell_type": "code",
   "execution_count": 38,
   "metadata": {},
   "outputs": [],
   "source": [
    "pasajero1=Pasajero(\"Isa\",\"ariza\",23,\"PA2008\") #%% Una instancia del objeto de la clase pasajero, crear un objeto a partir de la clase pasajero\n"
   ]
  },
  {
   "cell_type": "code",
   "execution_count": 56,
   "metadata": {},
   "outputs": [
    {
     "name": "stdout",
     "output_type": "stream",
     "text": [
      "vuelo añadido\n"
     ]
    }
   ],
   "source": [
    "vuelo1=Vuelo(\"MK123\", \"MEDELLIN\",\"cARTAGENA\",80)\n"
   ]
  },
  {
   "cell_type": "code",
   "execution_count": 57,
   "metadata": {},
   "outputs": [
    {
     "name": "stdout",
     "output_type": "stream",
     "text": [
      "el vuelo numero MK123, de  MEDELLIN y con cARTAGENA tiene 80 asientos disponibles80\n"
     ]
    }
   ],
   "source": [
    "vuelo1.mostrarInformacion ()\n"
   ]
  },
  {
   "cell_type": "code",
   "execution_count": 58,
   "metadata": {},
   "outputs": [
    {
     "name": "stdout",
     "output_type": "stream",
     "text": [
      "el ususario Isa realizo la reseva\n"
     ]
    }
   ],
   "source": [
    "vuelo1.reservarAsiento(pasajero1)\n"
   ]
  },
  {
   "cell_type": "code",
   "execution_count": 59,
   "metadata": {},
   "outputs": [
    {
     "name": "stdout",
     "output_type": "stream",
     "text": [
      "el vuelo numero MK123, de  MEDELLIN y con cARTAGENA tiene 80 asientos disponibles80\n"
     ]
    }
   ],
   "source": [
    "vuelo1.mostrarInformacion()\n"
   ]
  },
  {
   "cell_type": "code",
   "execution_count": 60,
   "metadata": {},
   "outputs": [],
   "source": [
    "pasajero2=Pasajero(\"nicole\",\"mejia\",20,\"PA233\")"
   ]
  },
  {
   "cell_type": "code",
   "execution_count": 61,
   "metadata": {},
   "outputs": [
    {
     "name": "stdout",
     "output_type": "stream",
     "text": [
      "el pasajero Isa ha cancelado la reseva del vuelo MK123\n"
     ]
    }
   ],
   "source": [
    "vuelo1.removerAsiento(pasajero1)"
   ]
  },
  {
   "cell_type": "code",
   "execution_count": 62,
   "metadata": {},
   "outputs": [],
   "source": [
    "latam=reservaVuelo(\"LATAM\")"
   ]
  },
  {
   "cell_type": "code",
   "execution_count": 63,
   "metadata": {},
   "outputs": [
    {
     "name": "stdout",
     "output_type": "stream",
     "text": [
      "el vuelo numero MK123, de  MEDELLIN y con cARTAGENA tiene 80 asientos disponibles80\n",
      "vuelo encontrado:\n",
      "                        None \n"
     ]
    }
   ],
   "source": [
    "latam.busquedaVuelo(\"MK123\")"
   ]
  },
  {
   "cell_type": "code",
   "execution_count": 67,
   "metadata": {},
   "outputs": [
    {
     "name": "stdout",
     "output_type": "stream",
     "text": [
      "el vuelo numero MK123, de  MEDELLIN y con cARTAGENA tiene 80 asientos disponibles80\n",
      "None\n",
      "el vuelo numero MK123, de  MEDELLIN y con cARTAGENA tiene 80 asientos disponibles80\n",
      "None\n"
     ]
    }
   ],
   "source": [
    "#valisar el de vuelos disponibles\n",
    "Latam.vuelosDisponibles()"
   ]
  },
  {
   "cell_type": "code",
   "execution_count": 68,
   "metadata": {},
   "outputs": [
    {
     "ename": "AttributeError",
     "evalue": "'Vuelo' object has no attribute 'reservaAsiento'",
     "output_type": "error",
     "traceback": [
      "\u001b[1;31m---------------------------------------------------------------------------\u001b[0m",
      "\u001b[1;31mAttributeError\u001b[0m                            Traceback (most recent call last)",
      "Cell \u001b[1;32mIn[68], line 2\u001b[0m\n\u001b[0;32m      1\u001b[0m \u001b[39m#validar realizar reserva\u001b[39;00m\n\u001b[1;32m----> 2\u001b[0m Latam\u001b[39m.\u001b[39;49mrealizarReserva(pasajero1,vuelo1)\n",
      "Cell \u001b[1;32mIn[49], line 66\u001b[0m, in \u001b[0;36mreservaVuelo.realizarReserva\u001b[1;34m(self, pasajero, vuelo)\u001b[0m\n\u001b[0;32m     65\u001b[0m \u001b[39mdef\u001b[39;00m \u001b[39mrealizarReserva\u001b[39m (\u001b[39mself\u001b[39m, pasajero,vuelo):\n\u001b[1;32m---> 66\u001b[0m     \u001b[39mprint\u001b[39m(vuelo\u001b[39m.\u001b[39;49mreservaAsiento (pasajero))\n",
      "\u001b[1;31mAttributeError\u001b[0m: 'Vuelo' object has no attribute 'reservaAsiento'"
     ]
    }
   ],
   "source": [
    "#validar realizar reserva\n",
    "Latam.realizarReserva(pasajero1,vuelo1)"
   ]
  }
 ],
 "metadata": {
  "kernelspec": {
   "display_name": "Python 3",
   "language": "python",
   "name": "python3"
  },
  "language_info": {
   "codemirror_mode": {
    "name": "ipython",
    "version": 3
   },
   "file_extension": ".py",
   "mimetype": "text/x-python",
   "name": "python",
   "nbconvert_exporter": "python",
   "pygments_lexer": "ipython3",
   "version": "3.11.3"
  }
 },
 "nbformat": 4,
 "nbformat_minor": 2
}
